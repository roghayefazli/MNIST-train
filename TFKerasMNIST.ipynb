{
  "cells": [
    {
      "cell_type": "markdown",
      "metadata": {
        "id": "view-in-github",
        "colab_type": "text"
      },
      "source": [
        "<a href=\"https://colab.research.google.com/github/roghayefazli/MNIST-train/blob/main/TFKerasMNIST.ipynb\" target=\"_parent\"><img src=\"https://colab.research.google.com/assets/colab-badge.svg\" alt=\"Open In Colab\"/></a>"
      ]
    },
    {
      "cell_type": "code",
      "execution_count": null,
      "metadata": {
        "id": "obGDBBXuI0w3"
      },
      "outputs": [],
      "source": [
        "import tensorflow as tf"
      ]
    },
    {
      "cell_type": "code",
      "execution_count": null,
      "metadata": {
        "id": "O4s5fGqkI0xE"
      },
      "outputs": [],
      "source": [
        "import tensorflow_datasets"
      ]
    },
    {
      "cell_type": "code",
      "execution_count": null,
      "metadata": {
        "id": "pv7x5jjCI0xG"
      },
      "outputs": [],
      "source": [
        "(train, test), info = tensorflow_datasets.load('mnist', split=['train', 'test'], as_supervised=True, with_info=True)"
      ]
    },
    {
      "cell_type": "code",
      "execution_count": null,
      "metadata": {
        "id": "YHV4RhOJI0xG",
        "outputId": "12c55bcb-365f-44f5-eee6-1012354adae1"
      },
      "outputs": [
        {
          "data": {
            "text/plain": [
              "<PrefetchDataset shapes: ((28, 28, 1), ()), types: (tf.uint8, tf.int64)>"
            ]
          },
          "execution_count": 4,
          "metadata": {},
          "output_type": "execute_result"
        }
      ],
      "source": [
        "train"
      ]
    },
    {
      "cell_type": "code",
      "execution_count": null,
      "metadata": {
        "id": "X6-q56inI0xJ",
        "outputId": "a21552cb-c86c-4e49-805d-4474a6c189ea"
      },
      "outputs": [
        {
          "data": {
            "text/plain": [
              "<MapDataset shapes: ((28, 28, 1), ()), types: (tf.float32, tf.int64)>"
            ]
          },
          "execution_count": 5,
          "metadata": {},
          "output_type": "execute_result"
        }
      ],
      "source": [
        "def normalize(image, label):\n",
        "    return tf.cast(image, tf.float32) / 256, label\n",
        "train = train.map(normalize)\n",
        "train"
      ]
    },
    {
      "cell_type": "code",
      "execution_count": null,
      "metadata": {
        "id": "1iumeok-I0xM"
      },
      "outputs": [],
      "source": [
        "train = train.cache()"
      ]
    },
    {
      "cell_type": "code",
      "execution_count": null,
      "metadata": {
        "id": "AUdyIpJXI0xN",
        "outputId": "b94ff820-83ee-42c2-89ef-1008ac837ea9"
      },
      "outputs": [
        {
          "data": {
            "text/plain": [
              "<SplitInfo num_examples=60000, num_shards=1>"
            ]
          },
          "execution_count": 7,
          "metadata": {},
          "output_type": "execute_result"
        }
      ],
      "source": [
        "info.splits['train']"
      ]
    },
    {
      "cell_type": "code",
      "execution_count": null,
      "metadata": {
        "id": "gdSKcCYTI0xO"
      },
      "outputs": [],
      "source": [
        "train = train.shuffle(info.splits['train'].num_examples)"
      ]
    },
    {
      "cell_type": "code",
      "execution_count": null,
      "metadata": {
        "id": "CE8D9qzkI0xO"
      },
      "outputs": [],
      "source": [
        "train = train.batch(256)"
      ]
    },
    {
      "cell_type": "code",
      "execution_count": null,
      "metadata": {
        "id": "HAqQRsmtI0xP"
      },
      "outputs": [],
      "source": [
        "train = train.prefetch(tf.data.experimental.AUTOTUNE)"
      ]
    },
    {
      "cell_type": "code",
      "execution_count": null,
      "metadata": {
        "id": "XV6oCPFPI0xQ",
        "outputId": "1bc63f27-6bdc-46a2-f55a-ff381a7222e0"
      },
      "outputs": [
        {
          "data": {
            "text/plain": [
              "<PrefetchDataset shapes: ((None, 28, 28, 1), (None,)), types: (tf.float32, tf.int64)>"
            ]
          },
          "execution_count": 11,
          "metadata": {},
          "output_type": "execute_result"
        }
      ],
      "source": [
        "train"
      ]
    },
    {
      "cell_type": "code",
      "execution_count": null,
      "metadata": {
        "id": "pIaRtHBiI0xQ",
        "outputId": "bbfa633c-8942-431a-dc71-e4fa1cd64e01"
      },
      "outputs": [
        {
          "data": {
            "text/plain": [
              "<MapDataset shapes: ((28, 28, 1), ()), types: (tf.float32, tf.int64)>"
            ]
          },
          "execution_count": 12,
          "metadata": {},
          "output_type": "execute_result"
        }
      ],
      "source": [
        "test = test.map(normalize)\n",
        "test"
      ]
    },
    {
      "cell_type": "code",
      "execution_count": null,
      "metadata": {
        "id": "lkFPM7m8I0xR"
      },
      "outputs": [],
      "source": [
        "test = test.batch(256)"
      ]
    },
    {
      "cell_type": "code",
      "execution_count": null,
      "metadata": {
        "id": "QIIGxxgtI0xS"
      },
      "outputs": [],
      "source": [
        "test = test.cache()\n",
        "test = test.prefetch(tf.data.experimental.AUTOTUNE)"
      ]
    },
    {
      "cell_type": "code",
      "execution_count": null,
      "metadata": {
        "id": "Mm5PJVh2I0xS"
      },
      "outputs": [],
      "source": [
        "model = tf.keras.models.Sequential([\n",
        "    tf.keras.layers.Flatten(input_shape=(28, 28)),\n",
        "    tf.keras.layers.Dense(100, activation='relu'),\n",
        "    tf.keras.layers.Dense(10, activation='softmax')\n",
        "])"
      ]
    },
    {
      "cell_type": "code",
      "execution_count": null,
      "metadata": {
        "id": "vAGJ4jcrI0xS"
      },
      "outputs": [],
      "source": [
        "model.compile(optimizer=tf.keras.optimizers.Adam(0.001), loss=tf.keras.losses.SparseCategoricalCrossentropy(from_logits=True), metrics=[tf.keras.metrics.SparseCategoricalAccuracy()])"
      ]
    },
    {
      "cell_type": "code",
      "execution_count": null,
      "metadata": {
        "id": "qPw1lcM2I0xS",
        "outputId": "b924a69a-3103-48d2-b3c8-93cac87c9c42"
      },
      "outputs": [
        {
          "name": "stdout",
          "output_type": "stream",
          "text": [
            "Epoch 1/10\n",
            "235/235 [==============================] - 1s 4ms/step - loss: 1.4916 - sparse_categorical_accuracy: 0.9743 - val_loss: 1.4971 - val_sparse_categorical_accuracy: 0.9676\n",
            "Epoch 2/10\n",
            "235/235 [==============================] - 1s 4ms/step - loss: 1.4892 - sparse_categorical_accuracy: 0.9764 - val_loss: 1.4963 - val_sparse_categorical_accuracy: 0.9687\n",
            "Epoch 3/10\n",
            "235/235 [==============================] - 1s 4ms/step - loss: 1.4876 - sparse_categorical_accuracy: 0.9776 - val_loss: 1.4949 - val_sparse_categorical_accuracy: 0.9690\n",
            "Epoch 4/10\n",
            "235/235 [==============================] - 1s 4ms/step - loss: 1.4856 - sparse_categorical_accuracy: 0.9797 - val_loss: 1.4954 - val_sparse_categorical_accuracy: 0.9686\n",
            "Epoch 5/10\n",
            "235/235 [==============================] - 1s 4ms/step - loss: 1.4843 - sparse_categorical_accuracy: 0.9804 - val_loss: 1.4946 - val_sparse_categorical_accuracy: 0.9688\n",
            "Epoch 6/10\n",
            "235/235 [==============================] - 1s 4ms/step - loss: 1.4833 - sparse_categorical_accuracy: 0.9813 - val_loss: 1.4939 - val_sparse_categorical_accuracy: 0.9696\n",
            "Epoch 7/10\n",
            "235/235 [==============================] - 1s 4ms/step - loss: 1.4821 - sparse_categorical_accuracy: 0.9825 - val_loss: 1.4925 - val_sparse_categorical_accuracy: 0.9710\n",
            "Epoch 8/10\n",
            "235/235 [==============================] - 1s 4ms/step - loss: 1.4809 - sparse_categorical_accuracy: 0.9833 - val_loss: 1.4910 - val_sparse_categorical_accuracy: 0.9725\n",
            "Epoch 9/10\n",
            "235/235 [==============================] - 1s 4ms/step - loss: 1.4802 - sparse_categorical_accuracy: 0.9840 - val_loss: 1.4909 - val_sparse_categorical_accuracy: 0.9725\n",
            "Epoch 10/10\n",
            "235/235 [==============================] - 1s 4ms/step - loss: 1.4791 - sparse_categorical_accuracy: 0.9848 - val_loss: 1.4908 - val_sparse_categorical_accuracy: 0.9725\n"
          ]
        },
        {
          "data": {
            "text/plain": [
              "<tensorflow.python.keras.callbacks.History at 0x7f11483df450>"
            ]
          },
          "execution_count": 18,
          "metadata": {},
          "output_type": "execute_result"
        }
      ],
      "source": [
        "model.fit(train, epochs=10, validation_data=test)"
      ]
    },
    {
      "cell_type": "code",
      "execution_count": null,
      "metadata": {
        "id": "fs9cwoqXI0xT",
        "outputId": "c5f10bf7-103c-452e-f248-9b1f3ca460d7"
      },
      "outputs": [
        {
          "data": {
            "text/plain": [
              "2"
            ]
          },
          "execution_count": 21,
          "metadata": {},
          "output_type": "execute_result"
        }
      ],
      "source": [
        "import numpy as np\n",
        "np.argmax(model.predict(test)[0])"
      ]
    }
  ],
  "metadata": {
    "kernelspec": {
      "display_name": "Python 3",
      "language": "python",
      "name": "python3"
    },
    "language_info": {
      "codemirror_mode": {
        "name": "ipython",
        "version": 3
      },
      "file_extension": ".py",
      "mimetype": "text/x-python",
      "name": "python",
      "nbconvert_exporter": "python",
      "pygments_lexer": "ipython3",
      "version": "3.7.6"
    },
    "colab": {
      "provenance": [],
      "include_colab_link": true
    }
  },
  "nbformat": 4,
  "nbformat_minor": 0
}